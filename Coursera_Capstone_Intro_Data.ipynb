{
 "cells": [
  {
   "cell_type": "markdown",
   "metadata": {},
   "source": [
    "## Introduction/Business Problem\n",
    "\n",
    "For my final project, I will making a dashboard tool that allows you to find universities similar to any town you want. Many sites allow you to research schools based on academics and college life and many other factors, but I do not see tools that allow you to find universities similar to any city you want to search. For example, if you live in Norfolk, Nebraska, and you really liked growing up there, then you may want to find a univerisity that has similar venues compared to Norfolk. Although there is much more to a town than just its venues, this tool could still give potential students a good idea of places they make feel more content.\n",
    "\n",
    "This tool could potentially be useful for websites like Niche that have various surveys that help students find the right school. Not feeling comfortable or \"at home\" at a university can lead to students tranfering colleges or dropping out. This added feature could improve student satisfaction in their choices, which in turn could bring more students into Niche to use their surveys and searches, which would bring in more advertising revenue. Additionally, this type of tool could help universities better target their ads when they advertise on websites like Niche.\n",
    "\n",
    "\n",
    "## Data Sources\n",
    "\n",
    "For this project, I will be drawing on a total of 3 data sources:\n",
    "\n",
    "##### 1. UniRank (https://www.4icu.org/us/)\n",
    "\n",
    "This site offers a full ranked list of accredited colleges and universities in the United States. I can use Requests and BeautifulSoup to extract this data and get a full list of colleges and universities in the United States.\n",
    "\n",
    "##### 2. Bing Maps (https://www.bing.com/maps)\n",
    "\n",
    "I can use the Bing Maps API to find the coordinates of the universities to use for the FourSquare API. It will also be used later to find the coordinates of any city that the user inputs into the dashboard.\n",
    "\n",
    "##### 3. Foursquare (https://developer.foursquare.com/)\n",
    "\n",
    "I will be using Foursquare to collect lists of venues near each university, which is the data that can then be used to cluster the universities using K Means. This will also be used whenever a location is inputed in the dashboard to collect a list of venues for any given city to then compare to the universities."
   ]
  },
  {
   "cell_type": "code",
   "execution_count": null,
   "metadata": {},
   "outputs": [],
   "source": []
  }
 ],
 "metadata": {
  "kernelspec": {
   "display_name": "Python 3",
   "language": "python",
   "name": "python3"
  },
  "language_info": {
   "codemirror_mode": {
    "name": "ipython",
    "version": 3
   },
   "file_extension": ".py",
   "mimetype": "text/x-python",
   "name": "python",
   "nbconvert_exporter": "python",
   "pygments_lexer": "ipython3",
   "version": "3.8.5"
  }
 },
 "nbformat": 4,
 "nbformat_minor": 4
}
